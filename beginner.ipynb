{
 "cells": [
  {
   "cell_type": "markdown",
   "metadata": {},
   "source": [
    "## Refresher"
   ]
  },
  {
   "cell_type": "code",
   "execution_count": 1,
   "metadata": {},
   "outputs": [
    {
     "name": "stdout",
     "output_type": "stream",
     "text": [
      "['a0', '12', '90', '00', '80', '43']\n"
     ]
    }
   ],
   "source": [
    "# split on the colon\n",
    "\n",
    "my_string = \"a0:12:90:00:80:43\"\n",
    " \n",
    "print(my_string.split(':'))"
   ]
  },
  {
   "cell_type": "code",
   "execution_count": 2,
   "metadata": {},
   "outputs": [
    {
     "name": "stdout",
     "output_type": "stream",
     "text": [
      "125\n"
     ]
    }
   ],
   "source": [
    "# \n",
    "\n",
    "print(pow(5, 3))"
   ]
  },
  {
   "cell_type": "code",
   "execution_count": 3,
   "metadata": {},
   "outputs": [
    {
     "name": "stdout",
     "output_type": "stream",
     "text": [
      "False\n"
     ]
    }
   ],
   "source": [
    "print(bool(\"Python 3\") and not(23 == 23))"
   ]
  },
  {
   "cell_type": "code",
   "execution_count": 4,
   "metadata": {},
   "outputs": [
    {
     "name": "stdout",
     "output_type": "stream",
     "text": [
      "True\n"
     ]
    }
   ],
   "source": [
    "result = 0\n",
    " \n",
    "x = bool(result) or (7 + 2) == (3 ** 2)\n",
    " \n",
    "print(x)"
   ]
  },
  {
   "cell_type": "code",
   "execution_count": 6,
   "metadata": {},
   "outputs": [
    {
     "name": "stdout",
     "output_type": "stream",
     "text": [
      "[(10, 20, 30), []]\n"
     ]
    }
   ],
   "source": [
    "# slice ((10, 20, 30), []) off of the list\n",
    "\n",
    "my_list = [22, 109, 'Apple', 11.2, 'Orange', 'Cherry', (10, 20, 30), [], False, 72, 'Kiwi', 0.0]\n",
    " \n",
    "x = my_list[6:8]\n",
    " \n",
    "print(x)"
   ]
  },
  {
   "cell_type": "code",
   "execution_count": 7,
   "metadata": {},
   "outputs": [
    {
     "name": "stdout",
     "output_type": "stream",
     "text": [
      "[10, 'x', 20.02, 'y', 30j, 'z', False, 'Python 3']\n"
     ]
    }
   ],
   "source": [
    "# add a new element to the list\n",
    "\n",
    "my_list = [10, 'x', 20.02, 'y', 30j, 'z', False]\n",
    "\n",
    "my_list.append(\"Python 3\")\n",
    "\n",
    "print(my_list)"
   ]
  },
  {
   "cell_type": "code",
   "execution_count": 8,
   "metadata": {},
   "outputs": [
    {
     "name": "stdout",
     "output_type": "stream",
     "text": [
      "[10, 20.02, 'y', 30j, 'z', False]\n"
     ]
    }
   ],
   "source": [
    "# remove the element 'x'\n",
    "\n",
    "my_list = [10, 'x', 20.02, 'y', 30j, 'z', False]\n",
    "\n",
    "my_list.remove('x')\n",
    "\n",
    "print(my_list)"
   ]
  },
  {
   "cell_type": "code",
   "execution_count": null,
   "metadata": {},
   "outputs": [],
   "source": []
  }
 ],
 "metadata": {
  "kernelspec": {
   "display_name": "Python 3",
   "language": "python",
   "name": "python3"
  },
  "language_info": {
   "codemirror_mode": {
    "name": "ipython",
    "version": 3
   },
   "file_extension": ".py",
   "mimetype": "text/x-python",
   "name": "python",
   "nbconvert_exporter": "python",
   "pygments_lexer": "ipython3",
   "version": "3.7.4"
  }
 },
 "nbformat": 4,
 "nbformat_minor": 4
}
