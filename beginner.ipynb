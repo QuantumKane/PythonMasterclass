{
 "cells": [
  {
   "cell_type": "markdown",
   "metadata": {},
   "source": [
    "## Refresher"
   ]
  },
  {
   "cell_type": "code",
   "execution_count": 1,
   "metadata": {},
   "outputs": [
    {
     "name": "stdout",
     "output_type": "stream",
     "text": [
      "['a0', '12', '90', '00', '80', '43']\n"
     ]
    }
   ],
   "source": [
    "# split on the colon\n",
    "\n",
    "my_string = \"a0:12:90:00:80:43\"\n",
    " \n",
    "print(my_string.split(':'))"
   ]
  },
  {
   "cell_type": "code",
   "execution_count": 2,
   "metadata": {},
   "outputs": [
    {
     "name": "stdout",
     "output_type": "stream",
     "text": [
      "125\n"
     ]
    }
   ],
   "source": [
    "# \n",
    "\n",
    "print(pow(5, 3))"
   ]
  },
  {
   "cell_type": "code",
   "execution_count": 3,
   "metadata": {},
   "outputs": [
    {
     "name": "stdout",
     "output_type": "stream",
     "text": [
      "False\n"
     ]
    }
   ],
   "source": [
    "print(bool(\"Python 3\") and not(23 == 23))"
   ]
  },
  {
   "cell_type": "code",
   "execution_count": 4,
   "metadata": {},
   "outputs": [
    {
     "name": "stdout",
     "output_type": "stream",
     "text": [
      "True\n"
     ]
    }
   ],
   "source": [
    "result = 0\n",
    " \n",
    "x = bool(result) or (7 + 2) == (3 ** 2)\n",
    " \n",
    "print(x)"
   ]
  },
  {
   "cell_type": "code",
   "execution_count": 6,
   "metadata": {},
   "outputs": [
    {
     "name": "stdout",
     "output_type": "stream",
     "text": [
      "[(10, 20, 30), []]\n"
     ]
    }
   ],
   "source": [
    "# slice ((10, 20, 30), []) off of the list\n",
    "\n",
    "my_list = [22, 109, 'Apple', 11.2, 'Orange', 'Cherry', (10, 20, 30), [], False, 72, 'Kiwi', 0.0]\n",
    " \n",
    "x = my_list[6:8]\n",
    " \n",
    "print(x)"
   ]
  },
  {
   "cell_type": "code",
   "execution_count": 7,
   "metadata": {},
   "outputs": [
    {
     "name": "stdout",
     "output_type": "stream",
     "text": [
      "[10, 'x', 20.02, 'y', 30j, 'z', False, 'Python 3']\n"
     ]
    }
   ],
   "source": [
    "# add a new element to the list\n",
    "\n",
    "my_list = [10, 'x', 20.02, 'y', 30j, 'z', False]\n",
    "\n",
    "my_list.append(\"Python 3\")\n",
    "\n",
    "print(my_list)"
   ]
  },
  {
   "cell_type": "code",
   "execution_count": 8,
   "metadata": {},
   "outputs": [
    {
     "name": "stdout",
     "output_type": "stream",
     "text": [
      "[10, 20.02, 'y', 30j, 'z', False]\n"
     ]
    }
   ],
   "source": [
    "# remove the element 'x'\n",
    "\n",
    "my_list = [10, 'x', 20.02, 'y', 30j, 'z', False]\n",
    "\n",
    "my_list.remove('x')\n",
    "\n",
    "print(my_list)"
   ]
  },
  {
   "cell_type": "code",
   "execution_count": 9,
   "metadata": {},
   "outputs": [
    {
     "name": "stdout",
     "output_type": "stream",
     "text": [
      "{1, 2, 3, 4, 5, 6, 8, 9, 10}\n"
     ]
    }
   ],
   "source": [
    "# renove the element 7 from set1\n",
    "\n",
    "set1 = {1, 2, 3, 4, 5, 6, 7, 8, 9, 10}\n",
    " \n",
    "set1.remove(7)\n",
    " \n",
    "print(set1)"
   ]
  },
  {
   "cell_type": "code",
   "execution_count": 10,
   "metadata": {},
   "outputs": [
    {
     "name": "stdout",
     "output_type": "stream",
     "text": [
      "{1, 3, 5, 7, 8, 10}\n"
     ]
    }
   ],
   "source": [
    "# return the elements of set1 that are not in set2\n",
    "\n",
    "set1 = {1, 2, 3, 4, 5, 6, 7, 8, 9, 10}\n",
    " \n",
    "set2 = {2, 4, 6, 9}\n",
    " \n",
    "print(set1.difference(set2))"
   ]
  },
  {
   "cell_type": "code",
   "execution_count": 11,
   "metadata": {},
   "outputs": [
    {
     "name": "stdout",
     "output_type": "stream",
     "text": [
      "{9, 2, 4, 6}\n"
     ]
    }
   ],
   "source": [
    "# return the commom elements of both sets\n",
    "\n",
    "set1 = {1, 2, 3, 4, 5, 6, 7, 8, 9, 10, 15, 19}\n",
    " \n",
    "set2 = {0, 2, 4, 6, 9, 11, 14}\n",
    " \n",
    "x = set1.intersection(set2)\n",
    " \n",
    "print(x)"
   ]
  },
  {
   "cell_type": "code",
   "execution_count": 12,
   "metadata": {},
   "outputs": [
    {
     "name": "stdout",
     "output_type": "stream",
     "text": [
      "2.6\n"
     ]
    }
   ],
   "source": [
    "# extract the 2.6 element\n",
    "\n",
    "my_tup = (\"a\", \"h\", 32, 2.6, None, False)\n",
    "\n",
    "print(my_tup[3])"
   ]
  },
  {
   "cell_type": "code",
   "execution_count": 13,
   "metadata": {},
   "outputs": [
    {
     "name": "stdout",
     "output_type": "stream",
     "text": [
      "h\n"
     ]
    }
   ],
   "source": [
    "# extract the 'h' element using a negative index\n",
    "\n",
    "my_tup = (\"a\", \"h\", 32, 2.6, None, False)\n",
    " \n",
    "print(my_tup[-5])"
   ]
  },
  {
   "cell_type": "code",
   "execution_count": 14,
   "metadata": {},
   "outputs": [
    {
     "name": "stdout",
     "output_type": "stream",
     "text": [
      "(False, None, 2.6, 32, 'h', 'a')\n"
     ]
    }
   ],
   "source": [
    "# print out the tuple in reverse order using indexing\n",
    "\n",
    "my_tup = (\"a\", \"h\", 32, 2.6, None, False)\n",
    " \n",
    "print(my_tup[::-1])"
   ]
  },
  {
   "cell_type": "code",
   "execution_count": 15,
   "metadata": {},
   "outputs": [
    {
     "name": "stdout",
     "output_type": "stream",
     "text": [
      "('Love', 'SQL')\n"
     ]
    }
   ],
   "source": [
    "# write a slice using positive index and a step that will extract the elements 'Love' and 'SQL'\n",
    "\n",
    "my_tuple = (101, [], 10.1, 1.01, 'Love', 'Python', 'Java', 'C++', 'C#', 'SQL', 0, 0.1, (80,))\n",
    " \n",
    "x = my_tuple[4::5]\n",
    " \n",
    "print(x)"
   ]
  },
  {
   "cell_type": "code",
   "execution_count": 16,
   "metadata": {},
   "outputs": [
    {
     "name": "stdout",
     "output_type": "stream",
     "text": [
      "[5, 8, 11, 14]\n"
     ]
    }
   ],
   "source": [
    "# create a range starting at 5 up to, but not including 15, with a step of 3\n",
    "\n",
    "print(list(range(5, 15, 3)))"
   ]
  },
  {
   "cell_type": "code",
   "execution_count": 17,
   "metadata": {},
   "outputs": [
    {
     "name": "stdout",
     "output_type": "stream",
     "text": [
      "[-50, -60, -70]\n"
     ]
    }
   ],
   "source": [
    "# create a range starting at -50 up to, but not includng -80, with a step of -10\n",
    "\n",
    "print(list(range(-50, -80, -10)))"
   ]
  },
  {
   "cell_type": "code",
   "execution_count": 18,
   "metadata": {},
   "outputs": [
    {
     "name": "stdout",
     "output_type": "stream",
     "text": [
      "2\n"
     ]
    }
   ],
   "source": [
    "# print out the index of 30 in range (10, 100, 10)\n",
    "\n",
    "r1 = range(10, 100, 10)\n",
    " \n",
    "print(r1.index(30))"
   ]
  },
  {
   "cell_type": "code",
   "execution_count": 20,
   "metadata": {},
   "outputs": [
    {
     "name": "stdout",
     "output_type": "stream",
     "text": [
      "[9, 10, 11]\n"
     ]
    }
   ],
   "source": [
    "# return a list made of the following elements [9, 10, 11]\n",
    "\n",
    "r = range(3, 21)\n",
    "\n",
    "my_slice = list(r)[6:9]\n",
    "\n",
    "print(my_slice)"
   ]
  },
  {
   "cell_type": "code",
   "execution_count": 21,
   "metadata": {},
   "outputs": [
    {
     "name": "stdout",
     "output_type": "stream",
     "text": [
      "{1: 'LG', 2: 'HP', 3: 'Samsung', 4: 'Sony', 5: 'Apple'}\n"
     ]
    }
   ],
   "source": [
    "# add the value \"Apple\" to the key 5\n",
    "\n",
    "my_dict = {1: \"LG\", 2: \"HP\", 3: \"Samsung\", 4: \"Sony\"}\n",
    " \n",
    "my_dict[5] = 'Apple'\n",
    " \n",
    "print(my_dict)"
   ]
  },
  {
   "cell_type": "code",
   "execution_count": 22,
   "metadata": {},
   "outputs": [
    {
     "name": "stdout",
     "output_type": "stream",
     "text": [
      "{1: 'LG', 3: 'Samsung', 4: 'Sony'}\n"
     ]
    }
   ],
   "source": [
    "# remove the value 'HP' from the dictionary by specifying its' key\n",
    "\n",
    "my_dict = {1: \"LG\", 2: \"HP\", 3: \"Samsung\", 4: \"Sony\"}\n",
    "\n",
    "del my_dict[2]\n",
    "\n",
    "print(my_dict)"
   ]
  },
  {
   "cell_type": "code",
   "execution_count": 23,
   "metadata": {},
   "outputs": [
    {
     "name": "stdout",
     "output_type": "stream",
     "text": [
      "True\n"
     ]
    }
   ],
   "source": [
    "# verify the element with key 3 exists inside the dictionary or not\n",
    "\n",
    "my_dict = {1: \"LG\", 2: \"HP\", 3: \"Samsung\", 4: \"Sony\"}\n",
    "\n",
    "print(3 in my_dict)"
   ]
  },
  {
   "cell_type": "code",
   "execution_count": 24,
   "metadata": {},
   "outputs": [
    {
     "name": "stdout",
     "output_type": "stream",
     "text": [
      "256\n"
     ]
    }
   ],
   "source": [
    "# update the value of the RAM key to 256\n",
    "\n",
    "my_dict = {'IOS': '12.4', 'Model': '2600', 'RAM': '128', 'Vendor': 'Cisco', 'Ports': '4'}\n",
    "\n",
    "my_dict['RAM'] = '256'\n",
    "\n",
    "print(my_dict['RAM'])"
   ]
  },
  {
   "cell_type": "markdown",
   "metadata": {},
   "source": [
    "## a slightly Deeper Dive"
   ]
  },
  {
   "cell_type": "code",
   "execution_count": 26,
   "metadata": {},
   "outputs": [],
   "source": [
    "vendors = ['Cisco', 'HP', 'Nortel', 'Avaya', 'Juniper']"
   ]
  },
  {
   "cell_type": "code",
   "execution_count": 27,
   "metadata": {},
   "outputs": [
    {
     "data": {
      "text/plain": [
       "5"
      ]
     },
     "execution_count": 27,
     "metadata": {},
     "output_type": "execute_result"
    }
   ],
   "source": [
    "len(vendors)"
   ]
  },
  {
   "cell_type": "code",
   "execution_count": 28,
   "metadata": {},
   "outputs": [
    {
     "data": {
      "text/plain": [
       "[0, 1, 2, 3, 4]"
      ]
     },
     "execution_count": 28,
     "metadata": {},
     "output_type": "execute_result"
    }
   ],
   "source": [
    "list(range(5))"
   ]
  },
  {
   "cell_type": "code",
   "execution_count": 29,
   "metadata": {},
   "outputs": [
    {
     "name": "stdout",
     "output_type": "stream",
     "text": [
      "Cisco\n",
      "HP\n",
      "Nortel\n",
      "Avaya\n",
      "Juniper\n"
     ]
    }
   ],
   "source": [
    "for element_index in range(len(vendors)):\n",
    "    print(vendors[element_index])"
   ]
  },
  {
   "cell_type": "code",
   "execution_count": 30,
   "metadata": {},
   "outputs": [
    {
     "name": "stdout",
     "output_type": "stream",
     "text": [
      "0 Cisco\n",
      "1 HP\n",
      "2 Nortel\n",
      "3 Avaya\n",
      "4 Juniper\n"
     ]
    }
   ],
   "source": [
    "for index, element in enumerate(vendors):\n",
    "    print(index, element)"
   ]
  },
  {
   "cell_type": "code",
   "execution_count": 31,
   "metadata": {},
   "outputs": [
    {
     "name": "stdout",
     "output_type": "stream",
     "text": [
      "Cisco\n",
      "HP\n",
      "Nortel\n",
      "Avaya\n",
      "Juniper\n",
      "The end of the list has been reached\n"
     ]
    }
   ],
   "source": [
    "for element in vendors: #iterating over a sequence and executing the code indented under the \"for\" clause for each element in the sequence\n",
    "    print(element)\n",
    "else: #the indented code below \"else\" will be executed when \"for\" has finished looping over the entire list\n",
    "    print(\"The end of the list has been reached\")"
   ]
  },
  {
   "cell_type": "code",
   "execution_count": 33,
   "metadata": {},
   "outputs": [
    {
     "name": "stdout",
     "output_type": "stream",
     "text": [
      "1\n",
      "2\n",
      "3\n",
      "4\n",
      "5\n",
      "6\n",
      "7\n",
      "8\n",
      "9\n",
      "10\n",
      "Out of the while loop - x is now greater than 10\n"
     ]
    }
   ],
   "source": [
    "#While / While Else loops - a while loop executes as long as an user-specified condition is evaluated as True; the \"else\" clause is optional\n",
    "x = 1\n",
    " \n",
    "while x <= 10:\n",
    "    print(x)\n",
    "    x += 1\n",
    "else:\n",
    "    print(\"Out of the while loop - x is now greater than 10\")"
   ]
  },
  {
   "cell_type": "code",
   "execution_count": 34,
   "metadata": {},
   "outputs": [
    {
     "name": "stdout",
     "output_type": "stream",
     "text": [
      "Cisco 5\n"
     ]
    }
   ],
   "source": [
    "x = \"Cisco\"\n",
    " \n",
    "if \"i\" in x: \n",
    "    if len(x) > 3: #if nesting\n",
    "        print(x, len(x))"
   ]
  },
  {
   "cell_type": "code",
   "execution_count": 35,
   "metadata": {},
   "outputs": [
    {
     "name": "stdout",
     "output_type": "stream",
     "text": [
      "40\n",
      "80\n",
      "120\n",
      "50\n",
      "100\n",
      "150\n",
      "60\n",
      "120\n",
      "180\n"
     ]
    }
   ],
   "source": [
    "list1 = [4, 5, 6]\n",
    "list2 = [10, 20, 30]\n",
    "for i in list1:\n",
    "    for j in list2: #for nesting\n",
    "        print(i*j)"
   ]
  },
  {
   "cell_type": "code",
   "execution_count": 36,
   "metadata": {},
   "outputs": [
    {
     "name": "stdout",
     "output_type": "stream",
     "text": [
      "5\n",
      "6\n",
      "7\n",
      "8\n",
      "9\n",
      "10\n",
      "5\n",
      "6\n",
      "7\n",
      "8\n",
      "9\n",
      "10\n",
      "5\n",
      "6\n",
      "7\n",
      "8\n",
      "9\n",
      "10\n",
      "5\n",
      "6\n",
      "7\n",
      "8\n",
      "9\n",
      "10\n",
      "5\n",
      "6\n",
      "7\n",
      "8\n",
      "9\n",
      "10\n",
      "5\n",
      "6\n",
      "7\n",
      "8\n",
      "9\n",
      "10\n",
      "5\n",
      "6\n",
      "7\n",
      "8\n",
      "9\n",
      "10\n",
      "5\n",
      "6\n",
      "7\n",
      "8\n",
      "9\n",
      "10\n",
      "5\n",
      "6\n",
      "7\n",
      "8\n",
      "9\n",
      "10\n",
      "5\n",
      "6\n",
      "7\n",
      "8\n",
      "9\n",
      "10\n"
     ]
    }
   ],
   "source": [
    "x = 1\n",
    "while x <= 10:\n",
    "    z = 5\n",
    "    x += 1\n",
    "    while z <= 10:  #while nesting\n",
    "        print(z)\n",
    "        z += 1"
   ]
  },
  {
   "cell_type": "code",
   "execution_count": 37,
   "metadata": {},
   "outputs": [
    {
     "name": "stdout",
     "output_type": "stream",
     "text": [
      "5\n",
      "6\n",
      "7\n",
      "8\n",
      "9\n"
     ]
    }
   ],
   "source": [
    "for number in range(10):\n",
    "    if 5 <= number <= 9: #mixed nesting\n",
    "        print(number)"
   ]
  },
  {
   "cell_type": "code",
   "execution_count": 38,
   "metadata": {},
   "outputs": [
    {
     "name": "stdout",
     "output_type": "stream",
     "text": [
      "Division Error!\n",
      "I don't care if an exception was raised or not!\n"
     ]
    }
   ],
   "source": [
    "#Try / Except / Else / Finally - handling an exception when it occurs and telling Python to keep executing the rest of the lines of code in the program\n",
    "try:\n",
    "    print(4/0) #in the \"try\" clause you insert the code that you think might generate an exception at some point\n",
    "except ZeroDivisionError:\n",
    "    print(\"Division Error!\") #specifying what exception types Python should expect as a consequence of running the code inside the \"try\" block and how to handle them\n",
    "else:\n",
    "    print(\"No exceptions raised by the try block!\") #executed if the code inside the \"try\" block raises NO exceptions\n",
    "finally:\n",
    "    print(\"I don't care if an exception was raised or not!\") #executed whether the code inside the \"try\" block raises an exception or not\n",
    " "
   ]
  },
  {
   "cell_type": "code",
   "execution_count": 40,
   "metadata": {},
   "outputs": [
    {
     "ename": "IndentationError",
     "evalue": "expected an indented block (<ipython-input-40-993aa7fe6cc5>, line 14)",
     "output_type": "error",
     "traceback": [
      "\u001b[0;36m  File \u001b[0;32m\"<ipython-input-40-993aa7fe6cc5>\"\u001b[0;36m, line \u001b[0;32m14\u001b[0m\n\u001b[0;31m    def my_first_function(x, *args) #specifying a variable number of positional parameters in a function definition; args is a tuple\u001b[0m\n\u001b[0m      ^\u001b[0m\n\u001b[0;31mIndentationError\u001b[0m\u001b[0;31m:\u001b[0m expected an indented block\n"
     ]
    }
   ],
   "source": [
    "#Functions - Basics\n",
    "def my_first_function(x, y): #defining a function that takes two parameters\n",
    "    sum = x + y\n",
    "    return sum #this statement is used to exit a function and return something when the function is called\n",
    "    \n",
    "my_first_function(1, 2) #calling a function and passing two POSITIONAL arguments, the values of 1 and 2; result is 3\n",
    " \n",
    "my_first_function(x = 1, y = 2) #calling a function and passing two KEYWORD arguments, the values of 1 and 2; result is 3\n",
    " \n",
    "my_first_function(1, y = 2) #calling a function and passing mixed types of arguments, the values of 1 and 2; result is 3; rule: positional arguments always before keyword arguments!\n",
    " \n",
    "def my_first_function(x, y, z = 3): #specifying a default parameter value in a function definition\n",
    " \n",
    "def my_first_function(x, *args) #specifying a variable number of positional parameters in a function definition; args is a tuple\n",
    " \n",
    "def my_first_function(x, **kwargs) #specifying a variable number of keyword parameters in a function definition; kwargs is a dictionary\n",
    " \n",
    "global my_var #\"importing\" a variable in the global namespace to the local namespace of a function\n"
   ]
  },
  {
   "cell_type": "code",
   "execution_count": 41,
   "metadata": {},
   "outputs": [
    {
     "name": "stdout",
     "output_type": "stream",
     "text": [
      "I am becoming a Python developer!\n"
     ]
    }
   ],
   "source": [
    "# write a function that prints out the string, I am becoming a Python developer!\"\n",
    "\n",
    "def my_func():\n",
    "    print(\"I am becoming a Python developer!\")\n",
    "    \n",
    "my_func()\n"
   ]
  },
  {
   "cell_type": "code",
   "execution_count": 42,
   "metadata": {},
   "outputs": [
    {
     "name": "stdout",
     "output_type": "stream",
     "text": [
      "1500\n"
     ]
    }
   ],
   "source": [
    "# Write a function that takes two parameters and returns the result of raising the first parameter\n",
    "# to the power given by the second and adds 500 to the result\n",
    "\n",
    "def myfunc(x, y):\n",
    "    return(x ** y) + 500\n",
    "\n",
    "    \n",
    "print(myfunc(10, 3))"
   ]
  },
  {
   "cell_type": "code",
   "execution_count": null,
   "metadata": {},
   "outputs": [],
   "source": [
    "#Regular Expressions - the \"re.match\" and \"re.search\" methods\n",
    "a = re.match(pattern, string, optional flags) #general match syntax; \"a\" is called a match object if the pattern is found in the string, otherwise \"a\" will be None\n",
    " \n",
    "mystr = \"You can learn any programming language, whether it is Python2, Python3, Perl, Java, javascript or PHP.\"\n",
    " \n",
    "import re #importing the regular expressions module\n",
    " \n",
    "a = re.match(\"You\", mystr) #checking if the characters \"You\" are indeed at the beginning of the string\n",
    " \n",
    "a.group() #result is 'You'; Python returns the match it found in the string according to the pattern we provided\n",
    " \n",
    "a = re.match(\"you\", mystr, re.I) #re.I is a flag that ignores the case of the matched characters\n",
    " \n",
    "a = re.search(pattern, string, optional flags) #general search syntax; searching for a pattern throughout the entire string; will return a match object if the pattern is found and None if it's not found\n",
    " \n",
    "arp = \"22.22.22.1      0         b4:a9:5a:ff:c8:45 VLAN#222             L\"\n",
    " \n",
    "a = re.search(r\"(.+?) +(\\d) +(.+?)\\s{2,}(\\w)*\", arp) #result is '22.22.22.1'; 'r' means the pattern should be treated like a raw string; any pair of parentheses indicates the start and the end of a group; if a match is found for the pattern inside the parentheses, then the contents of that group can be extracted with the group() method applied to the match object; in regex syntax, a dot represents any character, except a new line character; the plus sign means that the previous expression, which in our case is just a dot, may repeat one or more times; the question mark matching as few characters as possible\n",
    " \n",
    "a.groups() #returns all matches found in a given string, in the form of a tuple, where each match is an element of that tuple\n",
    "('22.22.22.1', '0', 'b4:a9:5a:ff:c8:45 VLAN#222', 'L')\n",
    " \n",
    "#Regular Expressions - the \"re.findall\" and \"re.sub\" methods\n",
    "a = re.findall(r\"\\d\\d\\.\\d{2}\\.[0-9][0-9]\\.[0-9]{1,3}\", arp) #returns a list where each element is a pattern that was matched inside the target string\n",
    "['22.22.22.1'] #result of the above operation - a list with only one element, the IP address matched by the regex\n",
    " \n",
    "b = re.sub(r\"\\d\", \"7\", arp) #replaces all occurrences of the specified pattern in the target string with a string you enter as an argument\n",
    "'77.77.77.7      7         b7:a7:7a:ff:c7:77 VLAN#777             L   77.77.77.77' #result of the above operation"
   ]
  }
 ],
 "metadata": {
  "kernelspec": {
   "display_name": "Python 3",
   "language": "python",
   "name": "python3"
  },
  "language_info": {
   "codemirror_mode": {
    "name": "ipython",
    "version": 3
   },
   "file_extension": ".py",
   "mimetype": "text/x-python",
   "name": "python",
   "nbconvert_exporter": "python",
   "pygments_lexer": "ipython3",
   "version": "3.7.4"
  }
 },
 "nbformat": 4,
 "nbformat_minor": 4
}
