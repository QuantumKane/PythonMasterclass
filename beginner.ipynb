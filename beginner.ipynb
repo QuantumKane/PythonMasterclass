{
 "cells": [
  {
   "cell_type": "markdown",
   "metadata": {},
   "source": [
    "## Refresher"
   ]
  },
  {
   "cell_type": "code",
   "execution_count": 1,
   "metadata": {},
   "outputs": [
    {
     "name": "stdout",
     "output_type": "stream",
     "text": [
      "['a0', '12', '90', '00', '80', '43']\n"
     ]
    }
   ],
   "source": [
    "# split on the colon\n",
    "\n",
    "my_string = \"a0:12:90:00:80:43\"\n",
    " \n",
    "print(my_string.split(':'))"
   ]
  },
  {
   "cell_type": "code",
   "execution_count": 2,
   "metadata": {},
   "outputs": [
    {
     "name": "stdout",
     "output_type": "stream",
     "text": [
      "125\n"
     ]
    }
   ],
   "source": [
    "# \n",
    "\n",
    "print(pow(5, 3))"
   ]
  },
  {
   "cell_type": "code",
   "execution_count": 3,
   "metadata": {},
   "outputs": [
    {
     "name": "stdout",
     "output_type": "stream",
     "text": [
      "False\n"
     ]
    }
   ],
   "source": [
    "print(bool(\"Python 3\") and not(23 == 23))"
   ]
  },
  {
   "cell_type": "code",
   "execution_count": 4,
   "metadata": {},
   "outputs": [
    {
     "name": "stdout",
     "output_type": "stream",
     "text": [
      "True\n"
     ]
    }
   ],
   "source": [
    "result = 0\n",
    " \n",
    "x = bool(result) or (7 + 2) == (3 ** 2)\n",
    " \n",
    "print(x)"
   ]
  },
  {
   "cell_type": "code",
   "execution_count": 6,
   "metadata": {},
   "outputs": [
    {
     "name": "stdout",
     "output_type": "stream",
     "text": [
      "[(10, 20, 30), []]\n"
     ]
    }
   ],
   "source": [
    "# slice ((10, 20, 30), []) off of the list\n",
    "\n",
    "my_list = [22, 109, 'Apple', 11.2, 'Orange', 'Cherry', (10, 20, 30), [], False, 72, 'Kiwi', 0.0]\n",
    " \n",
    "x = my_list[6:8]\n",
    " \n",
    "print(x)"
   ]
  },
  {
   "cell_type": "code",
   "execution_count": 7,
   "metadata": {},
   "outputs": [
    {
     "name": "stdout",
     "output_type": "stream",
     "text": [
      "[10, 'x', 20.02, 'y', 30j, 'z', False, 'Python 3']\n"
     ]
    }
   ],
   "source": [
    "# add a new element to the list\n",
    "\n",
    "my_list = [10, 'x', 20.02, 'y', 30j, 'z', False]\n",
    "\n",
    "my_list.append(\"Python 3\")\n",
    "\n",
    "print(my_list)"
   ]
  },
  {
   "cell_type": "code",
   "execution_count": 8,
   "metadata": {},
   "outputs": [
    {
     "name": "stdout",
     "output_type": "stream",
     "text": [
      "[10, 20.02, 'y', 30j, 'z', False]\n"
     ]
    }
   ],
   "source": [
    "# remove the element 'x'\n",
    "\n",
    "my_list = [10, 'x', 20.02, 'y', 30j, 'z', False]\n",
    "\n",
    "my_list.remove('x')\n",
    "\n",
    "print(my_list)"
   ]
  },
  {
   "cell_type": "code",
   "execution_count": 9,
   "metadata": {},
   "outputs": [
    {
     "name": "stdout",
     "output_type": "stream",
     "text": [
      "{1, 2, 3, 4, 5, 6, 8, 9, 10}\n"
     ]
    }
   ],
   "source": [
    "# renove the element 7 from set1\n",
    "\n",
    "set1 = {1, 2, 3, 4, 5, 6, 7, 8, 9, 10}\n",
    " \n",
    "set1.remove(7)\n",
    " \n",
    "print(set1)"
   ]
  },
  {
   "cell_type": "code",
   "execution_count": 10,
   "metadata": {},
   "outputs": [
    {
     "name": "stdout",
     "output_type": "stream",
     "text": [
      "{1, 3, 5, 7, 8, 10}\n"
     ]
    }
   ],
   "source": [
    "# return the elements of set1 that are not in set2\n",
    "\n",
    "set1 = {1, 2, 3, 4, 5, 6, 7, 8, 9, 10}\n",
    " \n",
    "set2 = {2, 4, 6, 9}\n",
    " \n",
    "print(set1.difference(set2))"
   ]
  },
  {
   "cell_type": "code",
   "execution_count": 11,
   "metadata": {},
   "outputs": [
    {
     "name": "stdout",
     "output_type": "stream",
     "text": [
      "{9, 2, 4, 6}\n"
     ]
    }
   ],
   "source": [
    "# return the commom elements of both sets\n",
    "\n",
    "set1 = {1, 2, 3, 4, 5, 6, 7, 8, 9, 10, 15, 19}\n",
    " \n",
    "set2 = {0, 2, 4, 6, 9, 11, 14}\n",
    " \n",
    "x = set1.intersection(set2)\n",
    " \n",
    "print(x)"
   ]
  },
  {
   "cell_type": "code",
   "execution_count": 12,
   "metadata": {},
   "outputs": [
    {
     "name": "stdout",
     "output_type": "stream",
     "text": [
      "2.6\n"
     ]
    }
   ],
   "source": [
    "# extract the 2.6 element\n",
    "\n",
    "my_tup = (\"a\", \"h\", 32, 2.6, None, False)\n",
    "\n",
    "print(my_tup[3])"
   ]
  },
  {
   "cell_type": "code",
   "execution_count": 13,
   "metadata": {},
   "outputs": [
    {
     "name": "stdout",
     "output_type": "stream",
     "text": [
      "h\n"
     ]
    }
   ],
   "source": [
    "# extract the 'h' element using a negative index\n",
    "\n",
    "my_tup = (\"a\", \"h\", 32, 2.6, None, False)\n",
    " \n",
    "print(my_tup[-5])"
   ]
  },
  {
   "cell_type": "code",
   "execution_count": 14,
   "metadata": {},
   "outputs": [
    {
     "name": "stdout",
     "output_type": "stream",
     "text": [
      "(False, None, 2.6, 32, 'h', 'a')\n"
     ]
    }
   ],
   "source": [
    "# print out the tuple in reverse order using indexing\n",
    "\n",
    "my_tup = (\"a\", \"h\", 32, 2.6, None, False)\n",
    " \n",
    "print(my_tup[::-1])"
   ]
  },
  {
   "cell_type": "code",
   "execution_count": 15,
   "metadata": {},
   "outputs": [
    {
     "name": "stdout",
     "output_type": "stream",
     "text": [
      "('Love', 'SQL')\n"
     ]
    }
   ],
   "source": [
    "# write a slice using positive index and a step that will extract the elements 'Love' and 'SQL'\n",
    "\n",
    "my_tuple = (101, [], 10.1, 1.01, 'Love', 'Python', 'Java', 'C++', 'C#', 'SQL', 0, 0.1, (80,))\n",
    " \n",
    "x = my_tuple[4::5]\n",
    " \n",
    "print(x)"
   ]
  },
  {
   "cell_type": "code",
   "execution_count": 16,
   "metadata": {},
   "outputs": [
    {
     "name": "stdout",
     "output_type": "stream",
     "text": [
      "[5, 8, 11, 14]\n"
     ]
    }
   ],
   "source": [
    "# create a range starting at 5 up to, but not including 15, with a step of 3\n",
    "\n",
    "print(list(range(5, 15, 3)))"
   ]
  },
  {
   "cell_type": "code",
   "execution_count": 17,
   "metadata": {},
   "outputs": [
    {
     "name": "stdout",
     "output_type": "stream",
     "text": [
      "[-50, -60, -70]\n"
     ]
    }
   ],
   "source": [
    "# create a range starting at -50 up to, but not includng -80, with a step of -10\n",
    "\n",
    "print(list(range(-50, -80, -10)))"
   ]
  },
  {
   "cell_type": "code",
   "execution_count": 18,
   "metadata": {},
   "outputs": [
    {
     "name": "stdout",
     "output_type": "stream",
     "text": [
      "2\n"
     ]
    }
   ],
   "source": [
    "# print out the index of 30 in range (10, 100, 10)\n",
    "\n",
    "r1 = range(10, 100, 10)\n",
    " \n",
    "print(r1.index(30))"
   ]
  },
  {
   "cell_type": "code",
   "execution_count": 20,
   "metadata": {},
   "outputs": [
    {
     "name": "stdout",
     "output_type": "stream",
     "text": [
      "[9, 10, 11]\n"
     ]
    }
   ],
   "source": [
    "# return a list made of the following elements [9, 10, 11]\n",
    "\n",
    "r = range(3, 21)\n",
    "\n",
    "my_slice = list(r)[6:9]\n",
    "\n",
    "print(my_slice)"
   ]
  },
  {
   "cell_type": "code",
   "execution_count": 21,
   "metadata": {},
   "outputs": [
    {
     "name": "stdout",
     "output_type": "stream",
     "text": [
      "{1: 'LG', 2: 'HP', 3: 'Samsung', 4: 'Sony', 5: 'Apple'}\n"
     ]
    }
   ],
   "source": [
    "# add the value \"Apple\" to the key 5\n",
    "\n",
    "my_dict = {1: \"LG\", 2: \"HP\", 3: \"Samsung\", 4: \"Sony\"}\n",
    " \n",
    "my_dict[5] = 'Apple'\n",
    " \n",
    "print(my_dict)"
   ]
  },
  {
   "cell_type": "code",
   "execution_count": 22,
   "metadata": {},
   "outputs": [
    {
     "name": "stdout",
     "output_type": "stream",
     "text": [
      "{1: 'LG', 3: 'Samsung', 4: 'Sony'}\n"
     ]
    }
   ],
   "source": [
    "# remove the value 'HP' from the dictionary by specifying its' key\n",
    "\n",
    "my_dict = {1: \"LG\", 2: \"HP\", 3: \"Samsung\", 4: \"Sony\"}\n",
    "\n",
    "del my_dict[2]\n",
    "\n",
    "print(my_dict)"
   ]
  },
  {
   "cell_type": "code",
   "execution_count": 23,
   "metadata": {},
   "outputs": [
    {
     "name": "stdout",
     "output_type": "stream",
     "text": [
      "True\n"
     ]
    }
   ],
   "source": [
    "# verify the element with key 3 exists inside the dictionary or not\n",
    "\n",
    "my_dict = {1: \"LG\", 2: \"HP\", 3: \"Samsung\", 4: \"Sony\"}\n",
    "\n",
    "print(3 in my_dict)"
   ]
  },
  {
   "cell_type": "code",
   "execution_count": 24,
   "metadata": {},
   "outputs": [
    {
     "name": "stdout",
     "output_type": "stream",
     "text": [
      "256\n"
     ]
    }
   ],
   "source": [
    "# update the value of the RAM key to 256\n",
    "\n",
    "my_dict = {'IOS': '12.4', 'Model': '2600', 'RAM': '128', 'Vendor': 'Cisco', 'Ports': '4'}\n",
    "\n",
    "my_dict['RAM'] = '256'\n",
    "\n",
    "print(my_dict['RAM'])"
   ]
  }
 ],
 "metadata": {
  "kernelspec": {
   "display_name": "Python 3",
   "language": "python",
   "name": "python3"
  },
  "language_info": {
   "codemirror_mode": {
    "name": "ipython",
    "version": 3
   },
   "file_extension": ".py",
   "mimetype": "text/x-python",
   "name": "python",
   "nbconvert_exporter": "python",
   "pygments_lexer": "ipython3",
   "version": "3.7.4"
  }
 },
 "nbformat": 4,
 "nbformat_minor": 4
}
