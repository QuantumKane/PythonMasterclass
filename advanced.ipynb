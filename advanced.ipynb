{
 "cells": [
  {
   "cell_type": "markdown",
   "metadata": {},
   "source": [
    "## classes"
   ]
  },
  {
   "cell_type": "code",
   "execution_count": 8,
   "metadata": {},
   "outputs": [],
   "source": [
    "class MyRouter(object):\n",
    "    \"This class describes the characteristics of a router.\"\n",
    "    \n",
    "    def __init__(self, routername, model, serialno, ios): #remember the double underscore for init\n",
    "        self.routername = routername\n",
    "        self.model = model\n",
    "        self.serialno = serialno\n",
    "        self.ios = ios\n",
    "        \n",
    "    def print_router(self, manuf_date):\n",
    "        print(\"The router name is: \", self.routername)\n",
    "        print(\"The router model is: \", self.model)\n",
    "        print(\"The serial number is: \", self.serialno)\n",
    "        print(\"The IOS version is: \", self.ios)\n",
    "        print(\"The model and date combined: \", self.model + manuf_date)"
   ]
  },
  {
   "cell_type": "code",
   "execution_count": 9,
   "metadata": {},
   "outputs": [],
   "source": [
    "# create an object\n",
    "\n",
    "router1 = MyRouter('R1', '2600', '123456', '12.4')"
   ]
  },
  {
   "cell_type": "code",
   "execution_count": 11,
   "metadata": {},
   "outputs": [
    {
     "data": {
      "text/plain": [
       "'2600'"
      ]
     },
     "execution_count": 11,
     "metadata": {},
     "output_type": "execute_result"
    }
   ],
   "source": [
    "router1.model"
   ]
  },
  {
   "cell_type": "code",
   "execution_count": 12,
   "metadata": {},
   "outputs": [
    {
     "data": {
      "text/plain": [
       "'123456'"
      ]
     },
     "execution_count": 12,
     "metadata": {},
     "output_type": "execute_result"
    }
   ],
   "source": [
    "router1.serialno"
   ]
  },
  {
   "cell_type": "code",
   "execution_count": 14,
   "metadata": {},
   "outputs": [
    {
     "name": "stdout",
     "output_type": "stream",
     "text": [
      "The router name is:  R1\n",
      "The router model is:  2600\n",
      "The serial number is:  123456\n",
      "The IOS version is:  12.4\n",
      "The model and date combined:  260020210824\n"
     ]
    }
   ],
   "source": [
    "router1.print_router(\"20210824\")"
   ]
  },
  {
   "cell_type": "code",
   "execution_count": 15,
   "metadata": {},
   "outputs": [],
   "source": [
    "# create a new object\n",
    "\n",
    "router2 = MyRouter('R2', '7200', '101010', '12.2')"
   ]
  },
  {
   "cell_type": "code",
   "execution_count": 16,
   "metadata": {},
   "outputs": [
    {
     "data": {
      "text/plain": [
       "'12.2'"
      ]
     },
     "execution_count": 16,
     "metadata": {},
     "output_type": "execute_result"
    }
   ],
   "source": [
    "router2.ios"
   ]
  },
  {
   "cell_type": "code",
   "execution_count": 17,
   "metadata": {},
   "outputs": [],
   "source": [
    "# changing an attribute\n",
    "\n",
    "router2.ios = \"12.3\""
   ]
  },
  {
   "cell_type": "code",
   "execution_count": 19,
   "metadata": {},
   "outputs": [
    {
     "data": {
      "text/plain": [
       "'12.3'"
      ]
     },
     "execution_count": 19,
     "metadata": {},
     "output_type": "execute_result"
    }
   ],
   "source": [
    "# confirm\n",
    "\n",
    "router2.ios"
   ]
  },
  {
   "cell_type": "code",
   "execution_count": 20,
   "metadata": {},
   "outputs": [
    {
     "data": {
      "text/plain": [
       "'12.3'"
      ]
     },
     "execution_count": 20,
     "metadata": {},
     "output_type": "execute_result"
    }
   ],
   "source": [
    "# get the value of an attribute\n",
    "\n",
    "getattr(router2, \"ios\")"
   ]
  },
  {
   "cell_type": "code",
   "execution_count": 21,
   "metadata": {},
   "outputs": [],
   "source": [
    "# set a new value for an attribute\n",
    "\n",
    "setattr(router2, \"ios\", \"12.1\")"
   ]
  },
  {
   "cell_type": "code",
   "execution_count": 22,
   "metadata": {},
   "outputs": [
    {
     "data": {
      "text/plain": [
       "'12.1'"
      ]
     },
     "execution_count": 22,
     "metadata": {},
     "output_type": "execute_result"
    }
   ],
   "source": [
    "# confirm change\n",
    "\n",
    "getattr(router2, \"ios\")"
   ]
  },
  {
   "cell_type": "code",
   "execution_count": 28,
   "metadata": {},
   "outputs": [
    {
     "data": {
      "text/plain": [
       "False"
      ]
     },
     "execution_count": 28,
     "metadata": {},
     "output_type": "execute_result"
    }
   ],
   "source": [
    "# check if an object has an attribute\n",
    "\n",
    "hasattr(router2, \"ios2\")"
   ]
  },
  {
   "cell_type": "code",
   "execution_count": 24,
   "metadata": {},
   "outputs": [
    {
     "data": {
      "text/plain": [
       "True"
      ]
     },
     "execution_count": 24,
     "metadata": {},
     "output_type": "execute_result"
    }
   ],
   "source": [
    "# check if an object is an instance of the class\n",
    "\n",
    "isinstance(router1, MyRouter)"
   ]
  },
  {
   "cell_type": "code",
   "execution_count": 25,
   "metadata": {},
   "outputs": [],
   "source": [
    "# deleting an attribute\n",
    "\n",
    "delattr(router2, \"ios\")"
   ]
  },
  {
   "cell_type": "code",
   "execution_count": 26,
   "metadata": {},
   "outputs": [
    {
     "data": {
      "text/plain": [
       "False"
      ]
     },
     "execution_count": 26,
     "metadata": {},
     "output_type": "execute_result"
    }
   ],
   "source": [
    "# confirming deletion\n",
    "\n",
    "hasattr(router2, \"ios\")"
   ]
  },
  {
   "cell_type": "markdown",
   "metadata": {},
   "source": [
    "## inheritance"
   ]
  },
  {
   "cell_type": "code",
   "execution_count": 29,
   "metadata": {},
   "outputs": [],
   "source": [
    "class MyNewRouter(MyRouter):\n",
    "    def __init__(self, routername, model, serialno, ios, portsno):\n",
    "        MyRouter.__init__(self, routername, model, serialno, ios)\n",
    "        self.portsno = portsno\n",
    "        \n",
    "    def print_new_router(self, string):\n",
    "        print(string + self.model)"
   ]
  },
  {
   "cell_type": "code",
   "execution_count": 30,
   "metadata": {},
   "outputs": [],
   "source": [
    "new_router1 = MyNewRouter('newr1', '1800', '111111', '12.2', '10')"
   ]
  },
  {
   "cell_type": "code",
   "execution_count": 31,
   "metadata": {},
   "outputs": [
    {
     "data": {
      "text/plain": [
       "'10'"
      ]
     },
     "execution_count": 31,
     "metadata": {},
     "output_type": "execute_result"
    }
   ],
   "source": [
    "new_router1.portsno"
   ]
  },
  {
   "cell_type": "code",
   "execution_count": null,
   "metadata": {},
   "outputs": [],
   "source": [
    "#Classes and objects\n",
    "class MyRouter(object): #creating a class which inherts from the default \"object\" class\n",
    "    def __init__(self, routername, model, serialno, ios): #class constructor; initializing some variables and the method is called whenever you create a new instance of the class \n",
    "        self.routername = routername #\"self\" is a reference to the current instance of the class\n",
    "        self.model = model\n",
    "        self.serialno = serialno\n",
    "        self.ios = ios\n",
    " \n",
    "    def print_router(self, manuf_date):\n",
    "        print(\"The router name is: \", self.routername)\n",
    "        print(\"The router model is: \", self.model)\n",
    "        print(\"The serial number of: \", self.serialno)\n",
    "        print(\"The IOS version is: \", self.ios)\n",
    "        print(\"The model and date combined: \", self.model + manuf_date)\n",
    "        \n",
    "router1 = MyRouter('R1', '2600', '123456', '12.4') #creating an object by simply calling the class name and entering the arguments required by the __init__ method in between parentheses\n",
    " \n",
    "router1.model #accessing the object's attributes; result is '2600'\n",
    " \n",
    "router1.print_router(\"20150101\") #accessing a function (actually called method) from within the class \n",
    "The router name is:  R1\n",
    "The router model is:  2600\n",
    "The serial number of:  123456\n",
    "The IOS version is:  12.4\n",
    "The model and date combined:  260020150101\n",
    " \n",
    "getattr(router2, \"ios\") #getting the value of an attribute\n",
    " \n",
    "setattr(router2, \"ios\", \"12.1\") #setting the value of an attribute\n",
    " \n",
    "hasattr(router2, \"ios\") #checking if an object attribute exists\n",
    " \n",
    "delattr(router2, \"ios\") #deleting an attribute\n",
    " \n",
    "isinstance(router2, MyRouter) #verifying if an object is an instance of a particular class\n",
    " \n",
    "class MyNewRouter(MyRouter): #creating a new class (child) inheriting from the MyRouter parent class\n",
    "    ...\n",
    " \n",
    "issubclass(MyNewRouter, MyRouter) #returns True or False; checking if a class is the child of another class"
   ]
  },
  {
   "cell_type": "markdown",
   "metadata": {},
   "source": [
    "## list/set/dictionary comprehensions"
   ]
  },
  {
   "cell_type": "code",
   "execution_count": 32,
   "metadata": {},
   "outputs": [],
   "source": [
    "# create an empty list\n",
    "\n",
    "list1 = []"
   ]
  },
  {
   "cell_type": "code",
   "execution_count": 33,
   "metadata": {},
   "outputs": [],
   "source": [
    "# simple for loop\n",
    "\n",
    "for i in range(10):\n",
    "    result = i ** 2\n",
    "    list1.append(result)"
   ]
  },
  {
   "cell_type": "code",
   "execution_count": 34,
   "metadata": {},
   "outputs": [
    {
     "data": {
      "text/plain": [
       "[0, 1, 4, 9, 16, 25, 36, 49, 64, 81]"
      ]
     },
     "execution_count": 34,
     "metadata": {},
     "output_type": "execute_result"
    }
   ],
   "source": [
    "list1"
   ]
  },
  {
   "cell_type": "code",
   "execution_count": 35,
   "metadata": {},
   "outputs": [],
   "source": [
    "# rewrite the for loop in a list comprehension\n",
    "\n",
    "list2 = [x ** 2 for x in range(10)]"
   ]
  },
  {
   "cell_type": "code",
   "execution_count": 36,
   "metadata": {},
   "outputs": [
    {
     "data": {
      "text/plain": [
       "[0, 1, 4, 9, 16, 25, 36, 49, 64, 81]"
      ]
     },
     "execution_count": 36,
     "metadata": {},
     "output_type": "execute_result"
    }
   ],
   "source": [
    "list2"
   ]
  },
  {
   "cell_type": "code",
   "execution_count": 37,
   "metadata": {},
   "outputs": [],
   "source": [
    "# adding a condition\n",
    "\n",
    "list3 = [x ** 2 for x in range(10) if x > 5]"
   ]
  },
  {
   "cell_type": "code",
   "execution_count": 38,
   "metadata": {},
   "outputs": [
    {
     "data": {
      "text/plain": [
       "[36, 49, 64, 81]"
      ]
     },
     "execution_count": 38,
     "metadata": {},
     "output_type": "execute_result"
    }
   ],
   "source": [
    "list3"
   ]
  },
  {
   "cell_type": "code",
   "execution_count": 40,
   "metadata": {},
   "outputs": [],
   "source": [
    "# set comprehension\n",
    "\n",
    "set1 = {x ** 2 for x in range(10)}"
   ]
  },
  {
   "cell_type": "code",
   "execution_count": 41,
   "metadata": {},
   "outputs": [
    {
     "data": {
      "text/plain": [
       "{0, 1, 4, 9, 16, 25, 36, 49, 64, 81}"
      ]
     },
     "execution_count": 41,
     "metadata": {},
     "output_type": "execute_result"
    }
   ],
   "source": [
    "set1"
   ]
  },
  {
   "cell_type": "code",
   "execution_count": 42,
   "metadata": {},
   "outputs": [],
   "source": [
    "# dictionary comprehension\n",
    "\n",
    "dict1 = {x : x ** 2 for x in range(10)}"
   ]
  },
  {
   "cell_type": "code",
   "execution_count": 43,
   "metadata": {},
   "outputs": [
    {
     "data": {
      "text/plain": [
       "{0: 0, 1: 1, 2: 4, 3: 9, 4: 16, 5: 25, 6: 36, 7: 49, 8: 64, 9: 81}"
      ]
     },
     "execution_count": 43,
     "metadata": {},
     "output_type": "execute_result"
    }
   ],
   "source": [
    "dict1"
   ]
  },
  {
   "cell_type": "code",
   "execution_count": 44,
   "metadata": {},
   "outputs": [
    {
     "name": "stdout",
     "output_type": "stream",
     "text": [
      "[70, 80, 90, 100]\n"
     ]
    }
   ],
   "source": [
    "# write a list comprehension that will iterate over the [1,2,3,4,5,6,7,8,9,10] list and will multiply by 10 only if x >= 7\n",
    "\n",
    "print([x * 10 for x in range(11) if x >= 7])"
   ]
  },
  {
   "cell_type": "code",
   "execution_count": null,
   "metadata": {},
   "outputs": [],
   "source": [
    "# lambda functions\n",
    "\n",
    "#Lambda functions - anonymous functions\n",
    "lambda arg1, arg2, ..., arg n: an expression using the arguments #general syntax\n",
    " \n",
    "a = lambda x, y: x * y #defining a lambda function\n",
    " \n",
    "a(20, 10) #result is 200; calling the lambda function\n",
    " \n",
    "#Instead of...\n",
    "def myfunc(list):\n",
    "    prod_list = []\n",
    "    for x in range(10):\t\n",
    "        for y in range(5):\n",
    "            product = x * y\n",
    "            prod_list.append(product)\n",
    "    return prod_list + list\n",
    " \n",
    "#...we can use a lambda function, a list comprehension and concatenation on a single line of code\n",
    "b = lambda list: [x * y for x in range(10) for y in range(5)] + list"
   ]
  },
  {
   "cell_type": "markdown",
   "metadata": {},
   "source": [
    "## Map and Filter"
   ]
  },
  {
   "cell_type": "code",
   "execution_count": null,
   "metadata": {},
   "outputs": [],
   "source": [
    "#map() - takes a function and a sequence as arguments and applies the function to all the elements of the sequence, returning a list as the result\n",
    "def product10(a):\n",
    "\treturn a * 10\n",
    " \n",
    "list1 = range(10)\n",
    " \n",
    "map(product10, list1) #result is [0, 10, 20, 30, 40, 50, 60, 70, 80, 90]; applying the product10() function to each element of list1\n",
    "#or...\n",
    "map((lambda a: a * 10), list1) #result is [0, 10, 20, 30, 40, 50, 60, 70, 80, 90] returns the same, but in a single line of code\n",
    " \n",
    "#filter() - takes a function and a sequence as arguments and extracts all the elements in the list for which the function returns True\n",
    "filter(lambda a: a > 5, list1) #result is [6, 7, 8, 9]"
   ]
  },
  {
   "cell_type": "code",
   "execution_count": null,
   "metadata": {},
   "outputs": [],
   "source": [
    "#Iterators - an object which allows a programmer to traverse through all the elements of a collection\n",
    "my_list = [1, 2, 3, 4, 5, 6, 7]\n",
    " \n",
    "my_iter = iter(my_list) #iter() returns an interator object\n",
    " \n",
    "next(my_iter) #in Python 2 and 3, it returns the elements of a sequence one by one; raises StopIteration when the sequence is exhausted\n",
    " \n",
    " \n",
    " \n",
    "#Generators - special routines that can be used to control the iteration behavior of a loop; defined using the \"def\" keyword; \n",
    "def my_gen(x, y): #creating a generator function \n",
    "    for i in range(x):\n",
    "        print(\"i is %d\" % i)\n",
    "        print(\"y is %d\" % y)\n",
    "        yield i * y   #yields the values one at a time; traversing a sequence up to a certain point, getting the result and suspending the execution\n",
    "        \n",
    "my_object = my_gen(10, 5) #creating a generator object\n",
    " \n",
    "next(my_object) #manually yield the next element returned by the my_gen() function; raises StopIteration when the sequence is exhausted\n",
    " \n",
    "gen_exp = (x for x in range(5)) #creating a generator expression; similar to list comprehensions, but using parentheses instead of square brackets \n",
    " \n",
    "next(gen_exp) #extracting each value in the list generated by range(5), one value at a time; raises StopIteration when the sequence is exhausted"
   ]
  },
  {
   "cell_type": "code",
   "execution_count": null,
   "metadata": {},
   "outputs": [],
   "source": [
    "#Itertools - built-in Python module for working with iterable data sets\n",
    "import itertools # necessary import\n",
    " \n",
    "list1 = [1, 2, 3, 'a', 'b', 'c']\n",
    "list2 = [101, 102, 103, 'X', 'Y']\n",
    " \n",
    "#chain() - takes several sequences and chains them together\n",
    "chain(list1, list2)\n",
    " \n",
    "list(chain(list1, list2)) #result is [1, 2, 3, 'a', 'b', 'c', 101, 102, 103, 'X', 'Y']\n",
    " \n",
    "#count() - returns an iterator that generates consecutive integers until you stop it, otherwise it will go on forever\n",
    "for i in count(10, 2.5):\n",
    "    if i <= 50:\n",
    "        print(i)\n",
    "    else:\n",
    "        break   #result is printing the numbers between 10 and 50 inclusively, with a step of 2.5\n",
    "        \n",
    "#cycle() - returns an iterator that simply repeats the value given as argument infinitely; you have to find a way to break out of the infinite loop\n",
    "a = range(11, 16)\n",
    " \n",
    "for i in cycle(a):\n",
    "\tprint(i) #use Ctrl+C to break out of the infinite loop\n",
    "    \n",
    "#filterfalse() - returns the elements for which the function you give as argument returns False\n",
    "list(filterfalse(lambda x: x < 5, [1, 2, 3, 4, 5, 6, 7])) #in Python 2 the result is [5, 6, 7]; in Python 3 there is no ifilter() like in Python 2, just filter() and filterfalse()\n",
    " \n",
    "#islice() - performs slicing; we can specify a starting point of the slice, an end point and a step\n",
    "list(islice(range(10), 2, 9, 2)) #result is [2, 4, 6, 8]"
   ]
  },
  {
   "cell_type": "code",
   "execution_count": null,
   "metadata": {},
   "outputs": [],
   "source": [
    "#Decorators - functions that take another function as a parameter and extend its functionality and behavior without modifying it\n",
    "def my_decorator(target_function):\n",
    "    def function_wrapper():\n",
    "        return \"Python is the \" + target_function() + \" programming language!\"\n",
    "    return function_wrapper\n",
    " \n",
    "@my_decorator\n",
    "def target_function():\n",
    "    return \"coolest\"\n",
    "    \n",
    "target_function() #returns 'Python is the coolest programming language!'"
   ]
  },
  {
   "cell_type": "code",
   "execution_count": null,
   "metadata": {},
   "outputs": [],
   "source": [
    "#Threading\n",
    "start() #simply starts or initiates the thread\n",
    " \n",
    "join() #makes sure the program waits for all threads to terminate\n",
    " \n",
    "th = threading.Thread(target = myfunction) #using the Thread class form the 'threading' module and telling \n",
    "# it the target function to be executed using the 'target' argument"
   ]
  },
  {
   "cell_type": "code",
   "execution_count": 46,
   "metadata": {},
   "outputs": [
    {
     "name": "stdout",
     "output_type": "stream",
     "text": [
      "Start a threadStart a thread\n",
      "\n",
      "Start a threadStart a thread\n",
      "\n",
      "Start a thread\n",
      "End a threadEnd a thread\n",
      "\n",
      "End a thread\n",
      "End a thread\n",
      "End a thread\n"
     ]
    }
   ],
   "source": [
    "import threading\n",
    "import time\n",
    "\n",
    "# defining the main function\n",
    "def myfunction():\n",
    "    \"Function to be executed\"\n",
    "    print(\"Start a thread\")\n",
    "    time.sleep(3)\n",
    "    print(\"End a thread\")\n",
    "    \n",
    "#Define an empty list of threads\n",
    "threads = []\n",
    "\n",
    "#runs 5 concurrent sessions of myfunction()\n",
    "for i in range(5):\n",
    "    th = threading.Thread(target = myfunction)\n",
    "    th.start()  # starting the thread\n",
    "    threads.append(th)\n",
    "    \n",
    "#waiting for all threads to terminate\n",
    "for th in threads:\n",
    "    th.join()"
   ]
  },
  {
   "cell_type": "code",
   "execution_count": null,
   "metadata": {},
   "outputs": [],
   "source": [
    "\n"
   ]
  }
 ],
 "metadata": {
  "kernelspec": {
   "display_name": "Python 3",
   "language": "python",
   "name": "python3"
  },
  "language_info": {
   "codemirror_mode": {
    "name": "ipython",
    "version": 3
   },
   "file_extension": ".py",
   "mimetype": "text/x-python",
   "name": "python",
   "nbconvert_exporter": "python",
   "pygments_lexer": "ipython3",
   "version": "3.7.4"
  }
 },
 "nbformat": 4,
 "nbformat_minor": 4
}
