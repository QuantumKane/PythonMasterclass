{
 "cells": [
  {
   "cell_type": "markdown",
   "metadata": {},
   "source": [
    "## a slightly Deeper Dive"
   ]
  },
  {
   "cell_type": "code",
   "execution_count": 8,
   "metadata": {},
   "outputs": [
    {
     "name": "stdout",
     "output_type": "stream",
     "text": [
      "0 a\n",
      "1 b\n",
      "2 c\n"
     ]
    }
   ],
   "source": [
    "# enumerate adds a counter to an iterable - good for printing an index\n",
    "\n",
    "letters = [\"a\", \"b\", \"c\"]\n",
    " \n",
    "for index, letter in enumerate(letters):\n",
    "    print(index, letter)"
   ]
  },
  {
   "cell_type": "code",
   "execution_count": 26,
   "metadata": {},
   "outputs": [],
   "source": [
    "vendors = ['Cisco', 'HP', 'Nortel', 'Avaya', 'Juniper']"
   ]
  },
  {
   "cell_type": "code",
   "execution_count": 27,
   "metadata": {},
   "outputs": [
    {
     "data": {
      "text/plain": [
       "5"
      ]
     },
     "execution_count": 27,
     "metadata": {},
     "output_type": "execute_result"
    }
   ],
   "source": [
    "len(vendors)"
   ]
  },
  {
   "cell_type": "code",
   "execution_count": 28,
   "metadata": {},
   "outputs": [
    {
     "data": {
      "text/plain": [
       "[0, 1, 2, 3, 4]"
      ]
     },
     "execution_count": 28,
     "metadata": {},
     "output_type": "execute_result"
    }
   ],
   "source": [
    "list(range(5))"
   ]
  },
  {
   "cell_type": "code",
   "execution_count": 29,
   "metadata": {},
   "outputs": [
    {
     "name": "stdout",
     "output_type": "stream",
     "text": [
      "Cisco\n",
      "HP\n",
      "Nortel\n",
      "Avaya\n",
      "Juniper\n"
     ]
    }
   ],
   "source": [
    "for element_index in range(len(vendors)):\n",
    "    print(vendors[element_index])"
   ]
  },
  {
   "cell_type": "code",
   "execution_count": 30,
   "metadata": {},
   "outputs": [
    {
     "name": "stdout",
     "output_type": "stream",
     "text": [
      "0 Cisco\n",
      "1 HP\n",
      "2 Nortel\n",
      "3 Avaya\n",
      "4 Juniper\n"
     ]
    }
   ],
   "source": [
    "for index, element in enumerate(vendors):\n",
    "    print(index, element)"
   ]
  },
  {
   "cell_type": "code",
   "execution_count": 31,
   "metadata": {},
   "outputs": [
    {
     "name": "stdout",
     "output_type": "stream",
     "text": [
      "Cisco\n",
      "HP\n",
      "Nortel\n",
      "Avaya\n",
      "Juniper\n",
      "The end of the list has been reached\n"
     ]
    }
   ],
   "source": [
    "for element in vendors: #iterating over a sequence and executing the code indented under the \"for\" clause for each element in the sequence\n",
    "    print(element)\n",
    "else: #the indented code below \"else\" will be executed when \"for\" has finished looping over the entire list\n",
    "    print(\"The end of the list has been reached\")"
   ]
  },
  {
   "cell_type": "code",
   "execution_count": 33,
   "metadata": {},
   "outputs": [
    {
     "name": "stdout",
     "output_type": "stream",
     "text": [
      "1\n",
      "2\n",
      "3\n",
      "4\n",
      "5\n",
      "6\n",
      "7\n",
      "8\n",
      "9\n",
      "10\n",
      "Out of the while loop - x is now greater than 10\n"
     ]
    }
   ],
   "source": [
    "#While / While Else loops - a while loop executes as long as an user-specified condition is evaluated as True; the \"else\" clause is optional\n",
    "x = 1\n",
    " \n",
    "while x <= 10:\n",
    "    print(x)\n",
    "    x += 1\n",
    "else:\n",
    "    print(\"Out of the while loop - x is now greater than 10\")"
   ]
  },
  {
   "cell_type": "code",
   "execution_count": 34,
   "metadata": {},
   "outputs": [
    {
     "name": "stdout",
     "output_type": "stream",
     "text": [
      "Cisco 5\n"
     ]
    }
   ],
   "source": [
    "x = \"Cisco\"\n",
    " \n",
    "if \"i\" in x: \n",
    "    if len(x) > 3: #if nesting\n",
    "        print(x, len(x))"
   ]
  },
  {
   "cell_type": "code",
   "execution_count": 35,
   "metadata": {},
   "outputs": [
    {
     "name": "stdout",
     "output_type": "stream",
     "text": [
      "40\n",
      "80\n",
      "120\n",
      "50\n",
      "100\n",
      "150\n",
      "60\n",
      "120\n",
      "180\n"
     ]
    }
   ],
   "source": [
    "list1 = [4, 5, 6]\n",
    "list2 = [10, 20, 30]\n",
    "for i in list1:\n",
    "    for j in list2: #for nesting\n",
    "        print(i*j)"
   ]
  },
  {
   "cell_type": "code",
   "execution_count": 36,
   "metadata": {},
   "outputs": [
    {
     "name": "stdout",
     "output_type": "stream",
     "text": [
      "5\n",
      "6\n",
      "7\n",
      "8\n",
      "9\n",
      "10\n",
      "5\n",
      "6\n",
      "7\n",
      "8\n",
      "9\n",
      "10\n",
      "5\n",
      "6\n",
      "7\n",
      "8\n",
      "9\n",
      "10\n",
      "5\n",
      "6\n",
      "7\n",
      "8\n",
      "9\n",
      "10\n",
      "5\n",
      "6\n",
      "7\n",
      "8\n",
      "9\n",
      "10\n",
      "5\n",
      "6\n",
      "7\n",
      "8\n",
      "9\n",
      "10\n",
      "5\n",
      "6\n",
      "7\n",
      "8\n",
      "9\n",
      "10\n",
      "5\n",
      "6\n",
      "7\n",
      "8\n",
      "9\n",
      "10\n",
      "5\n",
      "6\n",
      "7\n",
      "8\n",
      "9\n",
      "10\n",
      "5\n",
      "6\n",
      "7\n",
      "8\n",
      "9\n",
      "10\n"
     ]
    }
   ],
   "source": [
    "x = 1\n",
    "while x <= 10:\n",
    "    z = 5\n",
    "    x += 1\n",
    "    while z <= 10:  #while nesting\n",
    "        print(z)\n",
    "        z += 1"
   ]
  },
  {
   "cell_type": "code",
   "execution_count": 37,
   "metadata": {},
   "outputs": [
    {
     "name": "stdout",
     "output_type": "stream",
     "text": [
      "5\n",
      "6\n",
      "7\n",
      "8\n",
      "9\n"
     ]
    }
   ],
   "source": [
    "for number in range(10):\n",
    "    if 5 <= number <= 9: #mixed nesting\n",
    "        print(number)"
   ]
  },
  {
   "cell_type": "code",
   "execution_count": 38,
   "metadata": {},
   "outputs": [
    {
     "name": "stdout",
     "output_type": "stream",
     "text": [
      "Division Error!\n",
      "I don't care if an exception was raised or not!\n"
     ]
    }
   ],
   "source": [
    "#Try / Except / Else / Finally - handling an exception when it occurs and telling Python to keep executing the rest of the lines of code in the program\n",
    "try:\n",
    "    print(4/0) #in the \"try\" clause you insert the code that you think might generate an exception at some point\n",
    "except ZeroDivisionError:\n",
    "    print(\"Division Error!\") #specifying what exception types Python should expect as a consequence of running the code inside the \"try\" block and how to handle them\n",
    "else:\n",
    "    print(\"No exceptions raised by the try block!\") #executed if the code inside the \"try\" block raises NO exceptions\n",
    "finally:\n",
    "    print(\"I don't care if an exception was raised or not!\") #executed whether the code inside the \"try\" block raises an exception or not\n",
    " "
   ]
  },
  {
   "cell_type": "code",
   "execution_count": 40,
   "metadata": {},
   "outputs": [
    {
     "ename": "IndentationError",
     "evalue": "expected an indented block (<ipython-input-40-993aa7fe6cc5>, line 14)",
     "output_type": "error",
     "traceback": [
      "\u001b[0;36m  File \u001b[0;32m\"<ipython-input-40-993aa7fe6cc5>\"\u001b[0;36m, line \u001b[0;32m14\u001b[0m\n\u001b[0;31m    def my_first_function(x, *args) #specifying a variable number of positional parameters in a function definition; args is a tuple\u001b[0m\n\u001b[0m      ^\u001b[0m\n\u001b[0;31mIndentationError\u001b[0m\u001b[0;31m:\u001b[0m expected an indented block\n"
     ]
    }
   ],
   "source": [
    "#Functions - Basics\n",
    "def my_first_function(x, y): #defining a function that takes two parameters\n",
    "    sum = x + y\n",
    "    return sum #this statement is used to exit a function and return something when the function is called\n",
    "    \n",
    "my_first_function(1, 2) #calling a function and passing two POSITIONAL arguments, the values of 1 and 2; result is 3\n",
    " \n",
    "my_first_function(x = 1, y = 2) #calling a function and passing two KEYWORD arguments, the values of 1 and 2; result is 3\n",
    " \n",
    "my_first_function(1, y = 2) #calling a function and passing mixed types of arguments, the values of 1 and 2; result is 3; rule: positional arguments always before keyword arguments!\n",
    " \n",
    "def my_first_function(x, y, z = 3): #specifying a default parameter value in a function definition\n",
    " \n",
    "def my_first_function(x, *args) #specifying a variable number of positional parameters in a function definition; args is a tuple\n",
    " \n",
    "def my_first_function(x, **kwargs) #specifying a variable number of keyword parameters in a function definition; kwargs is a dictionary\n",
    " \n",
    "global my_var #\"importing\" a variable in the global namespace to the local namespace of a function\n"
   ]
  },
  {
   "cell_type": "code",
   "execution_count": 41,
   "metadata": {},
   "outputs": [
    {
     "name": "stdout",
     "output_type": "stream",
     "text": [
      "I am becoming a Python developer!\n"
     ]
    }
   ],
   "source": [
    "# write a function that prints out the string, I am becoming a Python developer!\"\n",
    "\n",
    "def my_func():\n",
    "    print(\"I am becoming a Python developer!\")\n",
    "    \n",
    "my_func()\n"
   ]
  },
  {
   "cell_type": "code",
   "execution_count": 42,
   "metadata": {},
   "outputs": [
    {
     "name": "stdout",
     "output_type": "stream",
     "text": [
      "1500\n"
     ]
    }
   ],
   "source": [
    "# Write a function that takes two parameters and returns the result of raising the first parameter\n",
    "# to the power given by the second and adds 500 to the result\n",
    "\n",
    "def myfunc(x, y):\n",
    "    return(x ** y) + 500\n",
    "\n",
    "    \n",
    "print(myfunc(10, 3))"
   ]
  },
  {
   "cell_type": "code",
   "execution_count": null,
   "metadata": {},
   "outputs": [],
   "source": [
    "#Regular Expressions - the \"re.match\" and \"re.search\" methods\n",
    "a = re.match(pattern, string, optional flags) #general match syntax; \"a\" is called a match object if the pattern is found in the string, otherwise \"a\" will be None\n",
    " \n",
    "mystr = \"You can learn any programming language, whether it is Python2, Python3, Perl, Java, javascript or PHP.\"\n",
    " \n",
    "import re #importing the regular expressions module\n",
    " \n",
    "a = re.match(\"You\", mystr) #checking if the characters \"You\" are indeed at the beginning of the string\n",
    " \n",
    "a.group() #result is 'You'; Python returns the match it found in the string according to the pattern we provided\n",
    " \n",
    "a = re.match(\"you\", mystr, re.I) #re.I is a flag that ignores the case of the matched characters\n",
    " \n",
    "a = re.search(pattern, string, optional flags) #general search syntax; searching for a pattern throughout the entire string; will return a match object if the pattern is found and None if it's not found\n",
    " \n",
    "arp = \"22.22.22.1      0         b4:a9:5a:ff:c8:45 VLAN#222             L\"\n",
    " \n",
    "a = re.search(r\"(.+?) +(\\d) +(.+?)\\s{2,}(\\w)*\", arp) #result is '22.22.22.1'; 'r' means the pattern should be treated like a raw string; any pair of parentheses indicates the start and the end of a group; if a match is found for the pattern inside the parentheses, then the contents of that group can be extracted with the group() method applied to the match object; in regex syntax, a dot represents any character, except a new line character; the plus sign means that the previous expression, which in our case is just a dot, may repeat one or more times; the question mark matching as few characters as possible\n",
    " \n",
    "a.groups() #returns all matches found in a given string, in the form of a tuple, where each match is an element of that tuple\n",
    "('22.22.22.1', '0', 'b4:a9:5a:ff:c8:45 VLAN#222', 'L')\n",
    " \n",
    "#Regular Expressions - the \"re.findall\" and \"re.sub\" methods\n",
    "a = re.findall(r\"\\d\\d\\.\\d{2}\\.[0-9][0-9]\\.[0-9]{1,3}\", arp) #returns a list where each element is a pattern that was matched inside the target string\n",
    "['22.22.22.1'] #result of the above operation - a list with only one element, the IP address matched by the regex\n",
    " \n",
    "b = re.sub(r\"\\d\", \"7\", arp) #replaces all occurrences of the specified pattern in the target string with a string you enter as an argument\n",
    "'77.77.77.7      7         b7:a7:7a:ff:c7:77 VLAN#777             L   77.77.77.77' #result of the above operation"
   ]
  },
  {
   "cell_type": "markdown",
   "metadata": {},
   "source": [
    "## more regex foolishness"
   ]
  },
  {
   "cell_type": "code",
   "execution_count": 2,
   "metadata": {},
   "outputs": [
    {
     "data": {
      "text/plain": [
       "NoneType"
      ]
     },
     "execution_count": 2,
     "metadata": {},
     "output_type": "execute_result"
    }
   ],
   "source": [
    "my_regex_str = '200.10.2.0 255.255.255.0 200.20.5.2 1 205 T#1 S IB 5'\n",
    "\n",
    "import re # remember to import \n",
    "a = re.match(r\"255\", my_regex_str)\n",
    "type(a)"
   ]
  },
  {
   "cell_type": "code",
   "execution_count": 3,
   "metadata": {},
   "outputs": [
    {
     "data": {
      "text/plain": [
       "'200.10.2.0 255.255.255.0 200.20.5.2 1 205 T#1 S IB 5'"
      ]
     },
     "execution_count": 3,
     "metadata": {},
     "output_type": "execute_result"
    }
   ],
   "source": [
    "\n",
    "a = re.search(r\"(.+?) +\\d\\d(\\d)\\.([0-9]{2,})\\.([0-9]{1,3})\\.(\\d) +(.+)1 +(\\d{3}) +(\\w{1})#.+S(\\s+)(\\w)\\w +(.*)\", my_regex_str)\n",
    "a.group(0)"
   ]
  },
  {
   "cell_type": "code",
   "execution_count": 4,
   "metadata": {},
   "outputs": [
    {
     "data": {
      "text/plain": [
       "'200.10.2.0'"
      ]
     },
     "execution_count": 4,
     "metadata": {},
     "output_type": "execute_result"
    }
   ],
   "source": [
    "a = re.search(r\"(.+?) +\\d\\d(\\d)\\.([0-9]{2,})\\.([0-9]{1,3})\\.(\\d) +(.+)1 +(\\d{3}) +(\\w{1})#.+S(\\s+)(\\w)\\w +(.*)\", my_regex_str)\n",
    "a.group(1)"
   ]
  },
  {
   "cell_type": "code",
   "execution_count": 5,
   "metadata": {},
   "outputs": [
    {
     "name": "stdout",
     "output_type": "stream",
     "text": [
      "%%%.%%%.%%%   % %%%%%% %\n"
     ]
    }
   ],
   "source": [
    "# replace all text with a %\n",
    "\n",
    "regex_str = \"123.456.789   0 PYTHON 3\"\n",
    "\n",
    "regex = re.sub(r\"\\w\", \"%\", regex_str)\n",
    "\n",
    "print(regex)"
   ]
  },
  {
   "cell_type": "code",
   "execution_count": 6,
   "metadata": {},
   "outputs": [
    {
     "name": "stdout",
     "output_type": "stream",
     "text": [
      "123.456.789\n"
     ]
    }
   ],
   "source": [
    "regex_str = \"123.456.789   0 PYTHON 3\"\n",
    "\n",
    "regex = re.search(r\"(.+?)\\s{2,}\", regex_str)\n",
    "\n",
    "print(regex.group(1))"
   ]
  },
  {
   "cell_type": "markdown",
   "metadata": {},
   "source": [
    "## generator functions"
   ]
  }
 ],
 "metadata": {
  "kernelspec": {
   "display_name": "Python 3",
   "language": "python",
   "name": "python3"
  },
  "language_info": {
   "codemirror_mode": {
    "name": "ipython",
    "version": 3
   },
   "file_extension": ".py",
   "mimetype": "text/x-python",
   "name": "python",
   "nbconvert_exporter": "python",
   "pygments_lexer": "ipython3",
   "version": "3.7.4"
  }
 },
 "nbformat": 4,
 "nbformat_minor": 4
}
